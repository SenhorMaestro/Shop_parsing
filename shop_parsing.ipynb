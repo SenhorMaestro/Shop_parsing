{
 "cells": [
  {
   "cell_type": "code",
   "execution_count": 1,
   "metadata": {},
   "outputs": [],
   "source": [
    "import pandas as pd\n",
    "from bs4 import BeautifulSoup\n",
    "import requests"
   ]
  },
  {
   "cell_type": "code",
   "execution_count": 3,
   "metadata": {},
   "outputs": [],
   "source": [
    "url = ..."
   ]
  },
  {
   "cell_type": "code",
   "execution_count": 4,
   "metadata": {},
   "outputs": [],
   "source": [
    "#resp = requests.get(url)\n",
    "\n",
    "#soup = BeautifulSoup(resp.text, 'html.parser')\n",
    "\n",
    "#with open('produkty1.html', 'w', encoding='utf-8') as file:\n",
    "    #file.write(str(soup))"
   ]
  },
  {
   "cell_type": "code",
   "execution_count": 3,
   "metadata": {},
   "outputs": [],
   "source": [
    "with open('produkty1.html', 'r', encoding='utf-8') as file:\n",
    "    soup = BeautifulSoup(file.read(), 'html.parser')"
   ]
  },
  {
   "cell_type": "code",
   "execution_count": 9,
   "metadata": {},
   "outputs": [
    {
     "data": {
      "text/plain": [
       "<div class=\"strip\">\n",
       "<figure>\n",
       "<img alt=\"ФАСОЛЬ GREENOLA красная, в собственном соку, 400 г\" src=\"/images/tovary/1946548.webp\"/>\n",
       "<a class=\"strip_info\" href=\"/magazin/chizhik/ovoshnie-konservy/product/fasol-GREENOLA-krasnaya--v-sobstvennom-soky--400-g\">\n",
       "<div class=\"item_title\">\n",
       "<small>Бренд: <u></u><br/>\n",
       "Вес: 400 г </small><br/>\n",
       "</div>\n",
       "</a>\n",
       "</figure>\n",
       "<div style=\"padding:15px;\">\n",
       "<a href=\"/magazin/chizhik/ovoshnie-konservy/product/fasol-GREENOLA-krasnaya--v-sobstvennom-soky--400-g\" style=\"text-decoration:underline;\">ФАСОЛЬ GREENOLA красная, в собственном соку, 400 г</a><br/>\n",
       "<div class=\"row\" style=\"margin-top:10px;\">\n",
       "<div class=\"col-md-12\" style=\"border-top:1px dashed #ccc;\"> </div>\n",
       "<div class=\"col-6 col-md-6\"><span style=\"font-size:16px;\">54.00 руб</span>\n",
       "<br/><small>21.03.2024</small>\n",
       "</div>\n",
       "<div class=\"col-6 col-md-6\"><a href=\"/magazin/chizhik/ovoshnie-konservy/product/fasol-GREENOLA-krasnaya--v-sobstvennom-soky--400-g\"><span class=\"btn_1 mb_5\">Все цены</span></a></div>\n",
       "</div>\n",
       "</div>\n",
       "</div>"
      ]
     },
     "execution_count": 9,
     "metadata": {},
     "output_type": "execute_result"
    }
   ],
   "source": [
    "res = soup.find('div', class_ = 'strip')\n",
    "res"
   ]
  },
  {
   "cell_type": "code",
   "execution_count": 10,
   "metadata": {},
   "outputs": [
    {
     "data": {
      "text/plain": [
       "'ФАСОЛЬ GREENOLA красная, в собственном соку, 400 г'"
      ]
     },
     "execution_count": 10,
     "metadata": {},
     "output_type": "execute_result"
    }
   ],
   "source": [
    "name = res.img['alt']\n",
    "name"
   ]
  },
  {
   "cell_type": "code",
   "execution_count": 12,
   "metadata": {},
   "outputs": [
    {
     "data": {
      "text/plain": [
       "'/images/tovary/1946548.webp'"
      ]
     },
     "execution_count": 12,
     "metadata": {},
     "output_type": "execute_result"
    }
   ],
   "source": [
    "img_source = res.img['src']\n",
    "img_source"
   ]
  },
  {
   "cell_type": "code",
   "execution_count": 14,
   "metadata": {},
   "outputs": [
    {
     "data": {
      "text/plain": [
       "'/magazin/chizhik/ovoshnie-konservy/product/fasol-GREENOLA-krasnaya--v-sobstvennom-soky--400-g'"
      ]
     },
     "execution_count": 14,
     "metadata": {},
     "output_type": "execute_result"
    }
   ],
   "source": [
    "ref = res.a['href']\n",
    "ref"
   ]
  },
  {
   "cell_type": "code",
   "execution_count": 15,
   "metadata": {},
   "outputs": [
    {
     "data": {
      "text/plain": [
       "'ovoshnie-konservy'"
      ]
     },
     "execution_count": 15,
     "metadata": {},
     "output_type": "execute_result"
    }
   ],
   "source": [
    "category = ref.split('/')[3]\n",
    "category"
   ]
  },
  {
   "cell_type": "code",
   "execution_count": 24,
   "metadata": {},
   "outputs": [
    {
     "data": {
      "text/plain": [
       "'54.00 руб'"
      ]
     },
     "execution_count": 24,
     "metadata": {},
     "output_type": "execute_result"
    }
   ],
   "source": [
    "price_line = res.find('div', class_ = \"col-6 col-md-6\")\n",
    "price_line.span.text"
   ]
  },
  {
   "cell_type": "code",
   "execution_count": 23,
   "metadata": {},
   "outputs": [
    {
     "data": {
      "text/plain": [
       "54.0"
      ]
     },
     "execution_count": 23,
     "metadata": {},
     "output_type": "execute_result"
    }
   ],
   "source": [
    "float(price_line.span.text[:-4])"
   ]
  },
  {
   "cell_type": "code",
   "execution_count": 31,
   "metadata": {},
   "outputs": [
    {
     "data": {
      "text/plain": [
       "'21.03.2024'"
      ]
     },
     "execution_count": 31,
     "metadata": {},
     "output_type": "execute_result"
    }
   ],
   "source": [
    "date = res.find('div', class_ = \"col-6 col-md-6\")\n",
    "date.small.text"
   ]
  }
 ],
 "metadata": {
  "kernelspec": {
   "display_name": "base",
   "language": "python",
   "name": "python3"
  },
  "language_info": {
   "codemirror_mode": {
    "name": "ipython",
    "version": 3
   },
   "file_extension": ".py",
   "mimetype": "text/x-python",
   "name": "python",
   "nbconvert_exporter": "python",
   "pygments_lexer": "ipython3",
   "version": "3.10.6"
  }
 },
 "nbformat": 4,
 "nbformat_minor": 2
}
